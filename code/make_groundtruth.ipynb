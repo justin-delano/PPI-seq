{
 "cells": [
  {
   "cell_type": "code",
   "execution_count": 1,
   "metadata": {},
   "outputs": [],
   "source": [
    "import pandas as pd\n",
    "import numpy as np\n",
    "\n",
    "date = \"1115\"\n",
    "\n",
    "tag_metadata_path = \"../data/tag_metadata.xlsx\"\n",
    "orf_metadata_path = \"../data/ORF_metadata.xlsx\"\n",
    "\n",
    "dataset_path = f\"../data/{date}/{date}_all.xlsx\"\n",
    "ex_sheet = \"ERM_REPA_1H\"\n",
    "tag_metadata = pd.read_excel(tag_metadata_path, index_col=0)\n",
    "dataset_sheet = pd.read_excel(dataset_path, ex_sheet, usecols=\"A:D\")\n",
    "orf_metadata = pd.read_excel(orf_metadata_path)"
   ]
  },
  {
   "cell_type": "code",
   "execution_count": 7,
   "metadata": {},
   "outputs": [],
   "source": [
    "def make_24karat(labels: pd.DataFrame, output_path:str) -> pd.DataFrame:\n",
    "    df_24karat = pd.DataFrame(labels[\"Gene\"].copy())\n",
    "    df_24karat[\"24karat\"] = pd.Series(dtype='int')\n",
    "    df_24karat.loc[(labels[\"Classification_Orre2019\"] == labels[\"Classification_ProteinAtlas\"]) | (labels[\"Classification_Orre2019\"] == labels[\"Classification_ProteinAtlas_grouped\"]), \"24karat\"] = labels[\"Classification_Orre2019\"]\n",
    "    df_24karat.loc[df_24karat[\"24karat\"] == 0, \"24karat\"]= np.nan\n",
    "    df_24karat.set_index('Gene', inplace=True)\n",
    "    return df_24karat\n",
    "\n",
    "output_path = f\"../data/{date}/{date}_str_labels.xlsx\"\n",
    "df_24karat = make_24karat(dataset_sheet, output_path)\n",
    "df_24karat.to_excel(output_path)"
   ]
  },
  {
   "cell_type": "code",
   "execution_count": 8,
   "metadata": {},
   "outputs": [],
   "source": [
    "def make_groundtruth(labels: pd.DataFrame, tag_metadata: pd.DataFrame, ignore_orfs: list, output_path:str) -> None:\n",
    "    usable_tag_dict = tag_metadata[\"Label_Match\"][tag_metadata[\"Label_Match\"].notnull()].to_dict()\n",
    "    gt_df = pd.DataFrame(index=labels.index.copy())\n",
    "\n",
    "    for tag in usable_tag_dict:\n",
    "        gt_df[f\"ABE-{tag}\"] = pd.Series(dtype='int')\n",
    "        gt_df.loc[labels[\"24karat\"] == usable_tag_dict[tag], f\"ABE-{tag}\"] = 1\n",
    "        gt_df.loc[(labels[\"24karat\"] != usable_tag_dict[tag]) & (labels[\"24karat\"].notnull()), f\"ABE-{tag}\"] = 0\n",
    "        gt_df.loc[gt_df.index.isin(ignore_orfs), f\"ABE-{tag}\"] = np.nan\n",
    "\n",
    "    gt_df.to_excel(output_path)\n",
    "\n",
    "inconsistent_mask = orf_metadata[\"Symbol\"].duplicated()\n",
    "inconsistent_orfs = set(orf_metadata[inconsistent_mask & orf_metadata[\"Valid_size?\"]][\"Symbol\"]).intersection(set(orf_metadata[(inconsistent_mask) & (~orf_metadata[\"Valid_size?\"])][\"Symbol\"]))\n",
    "short_orfs = orf_metadata[~orf_metadata[\"Valid_size?\"]][\"Symbol\"].to_list()\n",
    "ignore_orfs = list(inconsistent_orfs) + short_orfs\n",
    "\n",
    "output_path = f\"../data/{date}/{date}_bin_labels.xlsx\"\n",
    "make_groundtruth(df_24karat, tag_metadata, ignore_orfs, output_path)"
   ]
  },
  {
   "cell_type": "code",
   "execution_count": 21,
   "metadata": {},
   "outputs": [
    {
     "name": "stdout",
     "output_type": "stream",
     "text": [
      "---ABE-NES Labels---\n",
      "NaN    3250\n",
      "0.0     508\n",
      "1.0     169 \n",
      "\n",
      "---ABE-OMM Labels---\n",
      "NaN    3250\n",
      "0.0     607\n",
      "1.0      70 \n",
      "\n",
      "---ABE-NLS Labels---\n",
      "NaN    3250\n",
      "0.0     426\n",
      "1.0     251 \n",
      "\n",
      "---ABE-MEM Labels---\n",
      "NaN    3250\n",
      "0.0     490\n",
      "1.0     187 \n",
      "\n"
     ]
    }
   ],
   "source": [
    "date = \"1028\"\n",
    "output_path = f\"../data/{date}/{date}_bin_labels.xlsx\"\n",
    "gt_df = pd.read_excel(output_path)\n",
    "for col in gt_df.columns[1:]:\n",
    "    print(f\"---{col} Labels---\")\n",
    "    print (gt_df[col].value_counts(dropna=False).to_string(),\"\\n\")"
   ]
  }
 ],
 "metadata": {
  "kernelspec": {
   "display_name": "Python 3",
   "language": "python",
   "name": "python3"
  },
  "language_info": {
   "codemirror_mode": {
    "name": "ipython",
    "version": 3
   },
   "file_extension": ".py",
   "mimetype": "text/x-python",
   "name": "python",
   "nbconvert_exporter": "python",
   "pygments_lexer": "ipython3",
   "version": "3.9.13"
  },
  "orig_nbformat": 4,
  "vscode": {
   "interpreter": {
    "hash": "9945a30aa56b25c70e987bd45e848e9c2dd8179fdd7838417117bbf4282ff56f"
   }
  }
 },
 "nbformat": 4,
 "nbformat_minor": 2
}
