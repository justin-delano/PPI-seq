{
 "cells": [
  {
   "cell_type": "code",
   "execution_count": 1,
   "metadata": {},
   "outputs": [],
   "source": [
    "import pandas as pd\n",
    "date = \"1028\"\n",
    "input_path = f\"/data/pinello/PROJECTS/2022_PPIseq/data/{date}/{date}_all.xlsx\"\n",
    "output_path = f\"/data/pinello/PROJECTS/2022_PPIseq/data/{date}/{date}_\"\n",
    "output_reads = output_path+\"reads.xlsx\"\n",
    "output_editfrac = output_path+\"editfrac.xlsx\""
   ]
  },
  {
   "cell_type": "code",
   "execution_count": 4,
   "metadata": {},
   "outputs": [],
   "source": [
    "raw_data = pd.read_excel(input_path, sheet_name=None)\n",
    "raw_data.pop('cDNA_summary');\n",
    "raw_data.pop('ORF_summary');"
   ]
  },
  {
   "cell_type": "code",
   "execution_count": 5,
   "metadata": {},
   "outputs": [],
   "source": [
    "reads_data = pd.DataFrame()\n",
    "editfrac_data = pd.DataFrame()\n",
    "for name, sheet in raw_data.items():\n",
    "    if \"Gene\" not in reads_data.columns:\n",
    "        reads_data[\"Gene\"] = sheet[\"Gene\"]\n",
    "        editfrac_data[\"Gene\"] = sheet[\"Gene\"]\n",
    "\n",
    "    reads_data[name] = sheet[\"All_reads\"]\n",
    "    editfrac_data[name] = sheet[\"Primary_pos_edits.frac\"]\n",
    "\n",
    "reads_data.to_excel(output_reads, index=False)\n",
    "editfrac_data.to_excel(output_editfrac, index=False)\n"
   ]
  }
 ],
 "metadata": {
  "kernelspec": {
   "display_name": "jd_py39",
   "language": "python",
   "name": "python3"
  },
  "language_info": {
   "codemirror_mode": {
    "name": "ipython",
    "version": 3
   },
   "file_extension": ".py",
   "mimetype": "text/x-python",
   "name": "python",
   "nbconvert_exporter": "python",
   "pygments_lexer": "ipython3",
   "version": "3.9.13"
  },
  "orig_nbformat": 4,
  "vscode": {
   "interpreter": {
    "hash": "9945a30aa56b25c70e987bd45e848e9c2dd8179fdd7838417117bbf4282ff56f"
   }
  }
 },
 "nbformat": 4,
 "nbformat_minor": 2
}
